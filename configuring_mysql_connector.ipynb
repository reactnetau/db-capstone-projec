{
 "cells": [
  {
   "cell_type": "code",
   "execution_count": 1,
   "id": "bd5069e7-f7f3-4a33-8e50-642427e8f31f",
   "metadata": {},
   "outputs": [
    {
     "name": "stdout",
     "output_type": "stream",
     "text": [
      "Requirement already satisfied: mysql-connector-python in /Library/Frameworks/Python.framework/Versions/3.12/lib/python3.12/site-packages (9.1.0)\n"
     ]
    }
   ],
   "source": [
    "!pip install mysql-connector-python"
   ]
  },
  {
   "cell_type": "code",
   "execution_count": 2,
   "id": "ee94f701-55c8-4f0b-bf36-5d411e674ff4",
   "metadata": {},
   "outputs": [],
   "source": [
    "import mysql.connector as connector"
   ]
  },
  {
   "cell_type": "code",
   "execution_count": 3,
   "id": "dd0d0471-8d06-4da9-a339-3e7a04fc1879",
   "metadata": {},
   "outputs": [],
   "source": [
    "connection = connector.connect(user = \"root\", password = \"password\")"
   ]
  },
  {
   "cell_type": "code",
   "execution_count": 14,
   "id": "894330e4-60a6-4f4d-a39b-4e88a38ad290",
   "metadata": {},
   "outputs": [
    {
     "name": "stdout",
     "output_type": "stream",
     "text": [
      "[('Bookings',), ('CustomerDetails',), ('DeliveryStatus',), ('Menu',), ('MenuItems',), ('Orders',), ('ordersview',), ('StaffMember',)]\n"
     ]
    }
   ],
   "source": [
    "use_db_query = 'USE LittleLemonDB';\n",
    "show_tables_query = \"SHOW tables\" \n",
    "cursor = connection.cursor()\n",
    "cursor.execute(use_db_query)\n",
    "cursor.execute(show_tables_query)\n",
    "results = cursor.fetchall()\n",
    "print(results)\n"
   ]
  },
  {
   "cell_type": "code",
   "execution_count": 15,
   "id": "44fa84d2-abc8-4a91-b59f-b4e12315c812",
   "metadata": {},
   "outputs": [
    {
     "name": "stdout",
     "output_type": "stream",
     "text": [
      "[('John Doe', Decimal('200')), ('Jane Smith', Decimal('180')), ('Mike Johnson', Decimal('250')), ('John Doe', Decimal('100')), ('Jane Smith', Decimal('50')), ('Mike Johnson', Decimal('120')), ('John Doe', Decimal('90')), ('Jane Smith', Decimal('140')), ('Mike Johnson', Decimal('160')), ('John Doe', Decimal('200')), ('Jane Smith', Decimal('250')), ('Mike Johnson', Decimal('220')), ('John Doe', Decimal('300')), ('Jane Smith', Decimal('70')), ('Mike Johnson', Decimal('320')), ('John Doe', Decimal('210')), ('Jane Smith', Decimal('150')), ('Mike Johnson', Decimal('240')), ('John Doe', Decimal('160'))]\n"
     ]
    }
   ],
   "source": [
    "join_query = 'SELECT CustomerDetails.CustomerName, Orders.TotalCost FROM CustomerDetails WHERE Orders.TotalCost > 60 JOIN Orders ON CustomerDetails.CustomerDetailsID = Orders.CustomerID;'\n",
    "cursor.execute(join_query)\n",
    "results = cursor.fetchall()\n",
    "print(results)"
   ]
  },
  {
   "cell_type": "code",
   "execution_count": null,
   "id": "2cc64692-de03-463d-a905-c4d886355de4",
   "metadata": {},
   "outputs": [],
   "source": []
  }
 ],
 "metadata": {
  "kernelspec": {
   "display_name": "Python 3 (ipykernel)",
   "language": "python",
   "name": "python3"
  },
  "language_info": {
   "codemirror_mode": {
    "name": "ipython",
    "version": 3
   },
   "file_extension": ".py",
   "mimetype": "text/x-python",
   "name": "python",
   "nbconvert_exporter": "python",
   "pygments_lexer": "ipython3",
   "version": "3.12.6"
  }
 },
 "nbformat": 4,
 "nbformat_minor": 5
}
